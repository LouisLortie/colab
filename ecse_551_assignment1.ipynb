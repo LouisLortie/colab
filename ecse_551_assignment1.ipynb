{
  "cells": [
    {
      "cell_type": "markdown",
      "metadata": {
        "colab_type": "text",
        "id": "view-in-github"
      },
      "source": [
        "<a href=\"https://colab.research.google.com/github/LouisLortie/colab/blob/main/ecse_551_assignment1.ipynb\" target=\"_parent\"><img src=\"https://colab.research.google.com/assets/colab-badge.svg\" alt=\"Open In Colab\"/></a>"
      ]
    },
    {
      "cell_type": "code",
      "execution_count": null,
      "metadata": {
        "cellView": "form",
        "id": "R45IlMgVGzOJ"
      },
      "outputs": [],
      "source": [
        "#@title Import list\n",
        "\n",
        "from google.colab import drive\n",
        "import csv\n",
        "import pandas as pd, numpy as np\n",
        "import matplotlib.pyplot as plt"
      ]
    },
    {
      "cell_type": "code",
      "execution_count": null,
      "metadata": {
        "cellView": "form",
        "colab": {
          "base_uri": "https://localhost:8080/"
        },
        "id": "12YlaNVrJK7Q",
        "outputId": "d9278b89-b691-44b1-a02a-3bef339f50d6"
      },
      "outputs": [
        {
          "name": "stdout",
          "output_type": "stream",
          "text": [
            "Drive already mounted at /content/drive; to attempt to forcibly remount, call drive.mount(\"/content/drive\", force_remount=True).\n"
          ]
        }
      ],
      "source": [
        "#@title Load Csv\n",
        "drive.mount('/content/drive')\n",
        "# Reading air quality data\n",
        "aq_csv = pd.read_csv(\"/content/drive/MyDrive/ecse_551/assignment1/air_quality.csv\")\n",
        "\n",
        "# Reading liver patient data\n",
        "lp_csv = pd.read_csv(\"/content/drive/MyDrive/ecse_551/assignment1/liver_patient.csv\")\n",
        "\n",
        "# Array\n",
        "aq_data = np.array(aq_csv)\n",
        "lp_data = np.array(lp_csv)"
      ]
    },
    {
      "cell_type": "code",
      "execution_count": null,
      "metadata": {
        "id": "LC017qoXbUnT"
      },
      "outputs": [],
      "source": [
        "# Setting rcParams\n",
        "plt.style.use('classic')\n",
        "plt.rcParams.update({\n",
        "                        #  \"text.usetex\": True,\n",
        "                        #  \"font.family\": \"serif\",\n",
        "                        #  \"font.sans-serif\": [\"Times\"],\n",
        "                         \"lines.linewidth\" : 3,\n",
        "                         \"font.size\" : 12,\n",
        "                         \"figure.constrained_layout.use\" : True,\n",
        "                         \"hist.bins\" : 100 \n",
        "                         })"
      ]
    },
    {
      "cell_type": "code",
      "execution_count": null,
      "metadata": {
        "colab": {
          "base_uri": "https://localhost:8080/",
          "height": 506
        },
        "id": "kZTP0QN_ic3l",
        "outputId": "4586a356-0e3b-4fb2-dc0d-4c48796b150a"
      },
      "outputs": [
        {
          "data": {
            "image/png": "[encoded data removed]",
            "text/plain": [
              "<Figure size 640x480 with 2 Axes>"
            ]
          },
          "metadata": {},
          "output_type": "display_data"
        }
      ],
      "source": [
        "def main():\n",
        "\n",
        "  feat = 1   # Feature to analyse.\n",
        "\n",
        "  data_pos, data_neg = data_separation(aq_data)\n",
        "  \n",
        "  plot_hist(data_pos[:, feat], data_neg[:, feat], feat)\n",
        "\n",
        "  \n",
        "  \n",
        "if __name__ == '__main__':\n",
        "    main()"
      ]
    },
    {
      "cell_type": "code",
      "execution_count": null,
      "metadata": {
        "id": "z5wYo7KRgHVr"
      },
      "outputs": [],
      "source": [
        "# Function that classifies the training data into the two binary classes\n",
        "def data_separation(data):\n",
        "\n",
        "  count_pos = 0\n",
        "  count_neg = 0\n",
        "  \n",
        "  for i in range(data.shape[0]) :      # all rows of data\n",
        "\n",
        "    if data[i, -1] == 0 :\n",
        "      if count_neg == 0 :\n",
        "        data_neg = data[[i], :]\n",
        "      else :\n",
        "        data_neg = np.concatenate((data_neg, data[[i], :]), axis=0)\n",
        "      count_neg += 1\n",
        "\n",
        "    elif data[i, -1] == 1 :\n",
        "      if count_pos == 0 :\n",
        "        data_pos = data[[i], :]\n",
        "      else :\n",
        "        data_pos = np.concatenate((data_pos, data[[i], :]), axis=0)\n",
        "      count_pos += 1\n",
        "\n",
        "  return data_pos, data_neg"
      ]
    },
    {
      "cell_type": "code",
      "execution_count": null,
      "metadata": {
        "id": "q2qkHNdRjq4Q"
      },
      "outputs": [],
      "source": [
        "# Function that counts the number of features\n",
        "def feature_count(data):\n",
        "  return data.shape[1] - 1         # The last column is the class label"
      ]
    },
    {
      "cell_type": "code",
      "execution_count": null,
      "metadata": {
        "id": "sKXJZHjFtRaL"
      },
      "outputs": [],
      "source": [
        "# Function that plots the histogram of one feature. The number of bins can be changed via rcParams above.\n",
        "def plot_hist(feat_pos, feat_neg, feat_num):\n",
        "  fig, ax = plt.subplots(2, 1, sharex=True)\n",
        "  ax[0].hist(feat_pos, color=\"b\", label=r\"Class y = 1\")\n",
        "  ax[1].hist(feat_neg, color=\"r\", label=r\"Class y = 0\")\n",
        "  ax[0].set_title(\"Feature %i distribution comparison between classes\" %(feat_num + 1))\n",
        "  ax[0].legend(loc='upper right')\n",
        "  ax[1].legend(loc='upper right')\n",
        "  plt.tight_layout\n",
        "\n",
        "  return 0"
      ]
    }
  ],
  "metadata": {
    "colab": {
      "collapsed_sections": [],
      "include_colab_link": true,
      "provenance": []
    },
    "kernelspec": {
      "display_name": "Python 3",
      "name": "python3"
    },
    "language_info": {
      "name": "python"
    }
  },
  "nbformat": 4,
  "nbformat_minor": 0
}
